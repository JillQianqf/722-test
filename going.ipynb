{
 "cells": [
  {
   "cell_type": "code",
   "execution_count": 3,
   "id": "d168a232",
   "metadata": {},
   "outputs": [],
   "source": [
    "import findspark\n",
    "findspark.init('/home/ubuntu/spark-3.2.1-bin-hadoop2.7')\n",
    "import pyspark\n",
    "from pyspark.sql import SparkSession\n",
    "spark = SparkSession.builder.appName('basics').getOrCreate()"
   ]
  },
  {
   "cell_type": "code",
   "execution_count": 4,
   "id": "0065d740",
   "metadata": {
    "scrolled": true
   },
   "outputs": [
    {
     "name": "stdout",
     "output_type": "stream",
     "text": [
      "+--------+-----------+------+---------------------+---------------------+--------------------+-----------+-----+\n",
      "|RecordID|    Country|Gender|Demographics Question|Demographics Response|            Question|Survey Year|Value|\n",
      "+--------+-----------+------+---------------------+---------------------+--------------------+-----------+-----+\n",
      "|       1|Afghanistan|     F|       Marital status|        Never married|... if she burns ...| 01/01/2015| null|\n",
      "|       1|Afghanistan|     F|            Education|               Higher|... if she burns ...| 01/01/2015| 10.1|\n",
      "|       1|Afghanistan|     F|            Education|            Secondary|... if she burns ...| 01/01/2015| 13.7|\n",
      "|       1|Afghanistan|     F|            Education|              Primary|... if she burns ...| 01/01/2015| 13.8|\n",
      "|       1|Afghanistan|     F|       Marital status| Widowed, divorced...|... if she burns ...| 01/01/2015| 13.8|\n",
      "|       1|Afghanistan|     F|           Employment|    Employed for kind|... if she burns ...| 01/01/2015| 17.0|\n",
      "|       1|Afghanistan|     F|                  Age|                15-24|... if she burns ...| 01/01/2015| 17.3|\n",
      "|       1|Afghanistan|     F|           Employment|           Unemployed|... if she burns ...| 01/01/2015| 18.0|\n",
      "|       1|Afghanistan|     F|            Residence|                Rural|... if she burns ...| 01/01/2015| 18.1|\n",
      "|       1|Afghanistan|     F|                  Age|                25-34|... if she burns ...| 01/01/2015| 18.2|\n",
      "|       1|Afghanistan|     F|       Marital status| Married or living...|... if she burns ...| 01/01/2015| 18.3|\n",
      "|       1|Afghanistan|     F|            Residence|                Urban|... if she burns ...| 01/01/2015| 18.3|\n",
      "|       1|Afghanistan|     F|                  Age|                35-49|... if she burns ...| 01/01/2015| 18.8|\n",
      "|       1|Afghanistan|     F|            Education|         No education|... if she burns ...| 01/01/2015| 19.1|\n",
      "|       1|Afghanistan|     F|           Employment|    Employed for cash|... if she burns ...| 01/01/2015| 20.8|\n",
      "|       1|Afghanistan|     M|       Marital status|        Never married|... if she burns ...| 01/01/2015| null|\n",
      "|       1|Afghanistan|     M|            Education|               Higher|... if she burns ...| 01/01/2015|  4.5|\n",
      "|       1|Afghanistan|     M|            Residence|                Urban|... if she burns ...| 01/01/2015|  4.6|\n",
      "|       1|Afghanistan|     M|           Employment|           Unemployed|... if she burns ...| 01/01/2015|  5.2|\n",
      "|       1|Afghanistan|     M|            Education|              Primary|... if she burns ...| 01/01/2015|  6.3|\n",
      "+--------+-----------+------+---------------------+---------------------+--------------------+-----------+-----+\n",
      "only showing top 20 rows\n",
      "\n",
      "root\n",
      " |-- RecordID: integer (nullable = true)\n",
      " |-- Country: string (nullable = true)\n",
      " |-- Gender: string (nullable = true)\n",
      " |-- Demographics Question: string (nullable = true)\n",
      " |-- Demographics Response: string (nullable = true)\n",
      " |-- Question: string (nullable = true)\n",
      " |-- Survey Year: string (nullable = true)\n",
      " |-- Value: double (nullable = true)\n",
      "\n"
     ]
    }
   ],
   "source": [
    "# Reads schema and accepts that the data has a header.\n",
    "df = spark.read.csv('Datasets/Violence Against Women  Girls Data.csv', inferSchema=True, header=True)\n",
    "\n",
    "# Let's see the data.\n",
    "df.show()\n",
    "\n",
    "# And the data schema.\n",
    "df.printSchema()"
   ]
  },
  {
   "cell_type": "code",
   "execution_count": 5,
   "id": "40355e7e",
   "metadata": {},
   "outputs": [
    {
     "name": "stdout",
     "output_type": "stream",
     "text": [
      "+--------+-----+-----+------+----+----+\n",
      "|RecordID|count| mean|stddev| min| max|\n",
      "+--------+-----+-----+------+----+----+\n",
      "|     148|   15| 6.31|  2.47| 1.9|12.0|\n",
      "|     243|   28|20.00|  8.35| 2.4|34.3|\n",
      "|     392|   30|59.93| 18.82|16.6|83.3|\n",
      "|      31|   30| 3.81|  2.22| 0.4|10.8|\n",
      "|      85|   30|10.80|  5.35| 1.4|18.1|\n",
      "|     251|   30|14.55|  3.72| 7.4|21.2|\n",
      "|     137|   26| 3.34|  2.96| 0.4|13.0|\n",
      "|      65|   15|23.37|  8.86| 8.0|48.4|\n",
      "|     255|   30| 5.69|  2.44| 0.4|10.8|\n",
      "|      53|   15| 1.24|  0.43| 0.8| 2.2|\n",
      "|     296|   30|19.90|  8.16| 7.8|35.1|\n",
      "|     133|   30|14.25|  5.85| 3.9|26.4|\n",
      "|      78|   15| 5.45|  1.81| 1.7| 9.3|\n",
      "|     322|   30|40.31| 20.76| 3.1|66.7|\n",
      "|     362|   30|41.14|  8.06|13.7|53.9|\n",
      "|     321|   30| 7.80|  3.55| 1.7|16.7|\n",
      "|     375|   30|44.70| 15.55|15.4|72.7|\n",
      "|     155|   30|17.38| 11.29| 2.7|34.0|\n",
      "|     108|   30|25.15|  8.48| 8.8|38.8|\n",
      "|     211|   28|36.43| 11.30|19.6|50.6|\n",
      "+--------+-----+-----+------+----+----+\n",
      "only showing top 20 rows\n",
      "\n"
     ]
    }
   ],
   "source": [
    "from pyspark.sql import SparkSession\n",
    "from pyspark.sql.functions import count, mean, stddev, min, max, format_number\n",
    "\n",
    "\n",
    "spark = SparkSession.builder.appName('ViolenceStats').getOrCreate()\n",
    "\n",
    "df_grouped = df.groupBy(\"RecordID\").agg(\n",
    "    count(\"Value\").alias(\"count\"),\n",
    "    format_number(mean(\"Value\"), 2).alias(\"mean\"),\n",
    "    format_number(stddev(\"Value\"), 2).alias(\"stddev\"),\n",
    "    min(\"Value\").alias(\"min\"),\n",
    "    max(\"Value\").alias(\"max\")\n",
    ")\n",
    "\n",
    "df_grouped.show()\n"
   ]
  },
  {
   "cell_type": "code",
   "execution_count": null,
   "id": "3d44534c",
   "metadata": {},
   "outputs": [],
   "source": [
    "df.show()"
   ]
  },
  {
   "cell_type": "code",
   "execution_count": 6,
   "id": "1d50d436",
   "metadata": {},
   "outputs": [
    {
     "name": "stdout",
     "output_type": "stream",
     "text": [
      "                  column  unique  nulls  null_percent        dtype\n",
      "0               RecordID     420      0      0.000000  IntegerType\n",
      "1                Country      70      0      0.000000   StringType\n",
      "2                 Gender       2      0      0.000000   StringType\n",
      "3  Demographics Question       5      0      0.000000   StringType\n",
      "4  Demographics Response      15      0      0.000000   StringType\n",
      "5               Question       6      0      0.000000   StringType\n",
      "6            Survey Year      18      0      0.000000   StringType\n",
      "7                  Value     757   1413      0.126307   DoubleType\n"
     ]
    }
   ],
   "source": [
    " #DP-03\n",
    "    \n",
    "from pyspark.sql import SparkSession\n",
    "from pyspark.sql.functions import count, countDistinct, when, col\n",
    "import pandas as pd\n",
    "\n",
    "# Create or retrieve a Spark session\n",
    "spark = SparkSession.builder.appName('example').getOrCreate()\n",
    "\n",
    "# Compute descriptive statistics\n",
    "desc_stats = df.agg(*(\n",
    "    # Create columns for unique value counts\n",
    "    countDistinct(c).alias(c + '_uniques') for c in df.columns\n",
    ")).collect()[0]\n",
    "\n",
    "null_stats = df.agg(*(\n",
    "    # Create columns for null value counts\n",
    "    count(when(col(c).isNull(), c)).alias(c + '_nulls') for c in df.columns\n",
    ")).collect()[0]\n",
    "\n",
    "null_percent_stats = df.agg(*(\n",
    "    # Create columns for null value percentage\n",
    "    (count(when(col(c).isNull(), c)) / count(c)).alias(c + '_null_percent') for c in df.columns\n",
    ")).collect()[0]\n",
    "\n",
    "# Create a DataFrame using pandas to display the results\n",
    "stats_df = pd.DataFrame({\n",
    "    'column': df.columns,\n",
    "    'unique': [desc_stats[c + '_uniques'] for c in df.columns],\n",
    "    'nulls': [null_stats[c + '_nulls'] for c in df.columns],\n",
    "    'null_percent': [null_percent_stats[c + '_null_percent'] for c in df.columns],\n",
    "    'dtype': [df.schema[c].dataType for c in df.columns]\n",
    "})\n",
    "\n",
    "# Display the data\n",
    "print(stats_df)\n"
   ]
  },
  {
   "cell_type": "code",
   "execution_count": 7,
   "id": "df475911",
   "metadata": {},
   "outputs": [],
   "source": [
    "from pyspark.sql import SparkSession\n",
    "\n",
    "spark = SparkSession.builder.appName('CombineCSVs').getOrCreate()\n",
    "\n",
    "df1 = spark.read.csv(\"Datasets/Violence Against Women  Girls Data.csv\", header=True, inferSchema=True)\n",
    "df2 = spark.read.csv(\"Datasets/Violence Against Women Girls Data1.csv\", header=True, inferSchema=True)\n",
    "\n",
    "#  union two datasets\n",
    "combined_df = df1.union(df2)\n",
    "\n",
    "# save dataset(I have saved it so I marked it)\n",
    "#combined_df.write.csv(\"Datasets/combined_csv.csv\", header=True)\n"
   ]
  },
  {
   "cell_type": "code",
   "execution_count": 8,
   "id": "edb09a1e",
   "metadata": {},
   "outputs": [],
   "source": [
    "cleaned_df = combined_df.na.drop()"
   ]
  },
  {
   "cell_type": "code",
   "execution_count": 9,
   "id": "d633f8ef",
   "metadata": {
    "scrolled": true
   },
   "outputs": [],
   "source": [
    "deduped_df = cleaned_df.dropDuplicates()"
   ]
  },
  {
   "cell_type": "code",
   "execution_count": 10,
   "id": "9ac7794c",
   "metadata": {},
   "outputs": [
    {
     "name": "stderr",
     "output_type": "stream",
     "text": [
      "\r",
      "[Stage 24:=============================>                            (1 + 1) / 2]\r"
     ]
    },
    {
     "name": "stdout",
     "output_type": "stream",
     "text": [
      "+--------+-------+------+---------------------+---------------------+--------+-----------+-----+\n",
      "|RecordID|Country|Gender|Demographics Question|Demographics Response|Question|Survey Year|Value|\n",
      "+--------+-------+------+---------------------+---------------------+--------+-----------+-----+\n",
      "|       0|      0|     0|                    0|                    0|       0|          0|    0|\n",
      "+--------+-------+------+---------------------+---------------------+--------+-----------+-----+\n",
      "\n"
     ]
    },
    {
     "name": "stderr",
     "output_type": "stream",
     "text": [
      "\r",
      "                                                                                \r"
     ]
    }
   ],
   "source": [
    "from pyspark.sql.functions import col, sum\n",
    "\n",
    "deduped_df.select(*(sum(col(c).isNull().cast(\"int\")).alias(c) for c in deduped_df.columns)).show()\n"
   ]
  },
  {
   "cell_type": "code",
   "execution_count": null,
   "id": "d5b413ed",
   "metadata": {},
   "outputs": [],
   "source": [
    "print(\"Number of duplicate rows: \", deduped_df.count() - deduped_df.distinct().count())"
   ]
  },
  {
   "cell_type": "code",
   "execution_count": null,
   "id": "cd47e4bb",
   "metadata": {},
   "outputs": [],
   "source": [
    "from pyspark.sql import SparkSession\n",
    "from pyspark.sql.functions import count, countDistinct, when, col\n",
    "import pandas as pd\n",
    "\n",
    "spark = SparkSession.builder.appName('example').getOrCreate()\n",
    "\n",
    "df = spark.read.csv('Datasets/combined_csv.csv', header=True, inferSchema=True)\n"
   ]
  },
  {
   "cell_type": "code",
   "execution_count": null,
   "id": "45c5cd90",
   "metadata": {},
   "outputs": [],
   "source": [
    "\n",
    "desc_stats = df.agg(*(\n",
    "    countDistinct(c).alias(c + '_uniques') for c in df.columns\n",
    ")).collect()[0]\n",
    "\n",
    "null_stats = df.agg(*(\n",
    "    count(when(col(c).isNull(), c)).alias(c + '_nulls') for c in df.columns\n",
    ")).collect()[0]\n",
    "\n",
    "null_percent_stats = df.agg(*(\n",
    "    (count(when(col(c).isNull(), c)) / count(c)).alias(c + '_null_percent') for c in df.columns\n",
    ")).collect()[0]\n",
    "\n",
    "stats_df = pd.DataFrame({\n",
    "    'column': df.columns,\n",
    "    'unique': [desc_stats[c + '_uniques'] for c in df.columns],\n",
    "    'nulls': [null_stats[c + '_nulls'] for c in df.columns],\n",
    "    'null_percent': [null_percent_stats[c + '_null_percent'] for c in df.columns],\n",
    "    'dtype': [df.schema[c].dataType for c in df.columns]\n",
    "})\n",
    "\n",
    "print(stats_df)\n"
   ]
  },
  {
   "cell_type": "code",
   "execution_count": null,
   "id": "8449f0a5",
   "metadata": {},
   "outputs": [],
   "source": [
    "cleaned_df = combined_df.na.drop()"
   ]
  },
  {
   "cell_type": "code",
   "execution_count": null,
   "id": "603df1d3",
   "metadata": {},
   "outputs": [],
   "source": [
    "deduped_df = cleaned_df.dropDuplicates()"
   ]
  },
  {
   "cell_type": "code",
   "execution_count": null,
   "id": "21262637",
   "metadata": {},
   "outputs": [],
   "source": [
    "from pyspark.sql import SparkSession\n",
    "from pyspark.sql.functions import count, countDistinct, when, col\n",
    "import pandas as pd\n",
    "\n",
    "\n",
    "spark = SparkSession.builder.appName('example').getOrCreate()\n",
    "\n",
    "desc_stats = deduped_df.agg(*(\n",
    "    countDistinct(c).alias(c + '_uniques') for c in df.columns\n",
    ")).collect()[0]\n",
    "\n",
    "null_stats = deduped_df.agg(*(\n",
    "    count(when(col(c).isNull(), c)).alias(c + '_nulls') for c in df.columns\n",
    ")).collect()[0]\n",
    "\n",
    "null_percent_stats = deduped_df.agg(*(\n",
    "    (count(when(col(c).isNull(), c)) / count(c)).alias(c + '_null_percent') for c in df.columns\n",
    ")).collect()[0]\n",
    "\n",
    "\n",
    "stats_df = pd.DataFrame({\n",
    "    'column': df.columns,\n",
    "    'unique': [desc_stats[c + '_uniques'] for c in df.columns],\n",
    "    'nulls': [null_stats[c + '_nulls'] for c in df.columns],\n",
    "    'null_percent': [null_percent_stats[c + '_null_percent'] for c in df.columns],\n",
    "    'dtype': [df.schema[c].dataType for c in df.columns]\n",
    "})\n",
    "\n",
    "\n",
    "print(stats_df)"
   ]
  },
  {
   "cell_type": "code",
   "execution_count": null,
   "id": "e0d4b54c",
   "metadata": {},
   "outputs": [],
   "source": [
    "import matplotlib.pyplot as plt\n",
    "import seaborn as sns\n",
    "\n",
    "pandas_df = deduped_df.limit(1000).toPandas()\n",
    "\n",
    "# Seaborn to draw plot\n",
    "sns.histplot(data=pandas_df, x='Value', bins=30)\n",
    "plt.show()"
   ]
  },
  {
   "cell_type": "code",
   "execution_count": null,
   "id": "a5c0f773",
   "metadata": {},
   "outputs": [],
   "source": [
    "from pyspark.sql.functions import col, when\n",
    "\n",
    "# Example: Constructing a new column based on existing columns\n",
    "# If 'Value' column has nulls or not.\n",
    "deduped_df = deduped_df.withColumn(\n",
    "    \"is_value_null\",\n",
    "    when(col(\"Value\").isNull(), \"Yes\").otherwise(\"No\")\n",
    ")\n",
    "\n",
    "\n",
    "# Example: Re-encoding a column\n",
    "# If 'Gender' column has values 'Male' and 'Female', and we want to encode them as 1 and 0.\n",
    "deduped_df = deduped_df.withColumn(\n",
    "    \"Gender\",\n",
    "    when(col(\"Gender\") == \"Male\", 1).otherwise(0)\n",
    ")\n",
    "\n",
    "# Showing the transformed data\n",
    "deduped_df.show()\n",
    "\n"
   ]
  },
  {
   "cell_type": "code",
   "execution_count": null,
   "id": "83de04c4",
   "metadata": {},
   "outputs": [],
   "source": [
    "# 04-DT"
   ]
  },
  {
   "cell_type": "code",
   "execution_count": 13,
   "id": "a0279246",
   "metadata": {},
   "outputs": [
    {
     "name": "stdout",
     "output_type": "stream",
     "text": [
      "+-----------+----+\n",
      "|Survey Year|Year|\n",
      "+-----------+----+\n",
      "| 2015-01-01|2015|\n",
      "| 2015-01-01|2015|\n",
      "| 2006-01-01|2006|\n",
      "| 2017-01-01|2017|\n",
      "| 2008-01-01|2008|\n",
      "| 2016-01-01|2016|\n",
      "| 2016-01-01|2016|\n",
      "| 2011-01-01|2011|\n",
      "| 2012-01-01|2012|\n",
      "| 2013-01-01|2013|\n",
      "| 2013-01-01|2013|\n",
      "| 2011-01-01|2011|\n",
      "| 2011-01-01|2011|\n",
      "| 2016-01-01|2016|\n",
      "| 2016-01-01|2016|\n",
      "| 2012-01-01|2012|\n",
      "| 2013-01-01|2013|\n",
      "| 2014-01-01|2014|\n",
      "| 2018-01-01|2018|\n",
      "| 2016-01-01|2016|\n",
      "+-----------+----+\n",
      "only showing top 20 rows\n",
      "\n"
     ]
    }
   ],
   "source": [
    "from pyspark.sql import SparkSession\n",
    "from pyspark.sql.functions import col, year, unix_timestamp, from_unixtime\n",
    "from pyspark.sql.types import DateType\n",
    "\n",
    "# Start Spark session\n",
    "spark = SparkSession.builder.appName('example').getOrCreate()\n",
    "\n",
    "# Here deduped_df is DataFrame after the first round of cleaning.\n",
    "\n",
    "# Convert 'Survey Year' from string to date with a specific format\n",
    "deduped_df = deduped_df.withColumn(\"Survey Year\", from_unixtime(unix_timestamp(\"Survey Year\", 'dd/MM/yyyy'), 'yyyy-MM-dd').cast(DateType()))\n",
    "\n",
    "# Extract year from 'Survey Year' and create a new column named 'Year'\n",
    "deduped_df = deduped_df.withColumn(\"Year\", year(\"Survey Year\"))\n",
    "\n",
    "deduped_df.select(\"Survey Year\", \"Year\").show()\n",
    "\n"
   ]
  },
  {
   "cell_type": "code",
   "execution_count": null,
   "id": "ce7a4721",
   "metadata": {},
   "outputs": [],
   "source": [
    "from pyspark.sql import SparkSession\n",
    "from pyspark.sql.functions import col, year, to_date\n",
    "from pyspark.ml.feature import StringIndexer, OneHotEncoder, VectorAssembler\n",
    "from pyspark.ml import Pipeline\n",
    "\n",
    "# Start Spark session\n",
    "spark = SparkSession.builder.appName('feature_selection').getOrCreate()\n",
    "\n",
    "# Assume `deduped_df` is your DataFrame\n",
    "\n",
    "# Convert 'Survey Year' from string to year integer\n",
    "deduped_df = deduped_df.withColumn(\"Year\", year(to_date(col(\"Survey Year\"), \"MM/dd/yyyy\")))\n",
    "\n",
    "# Drop original 'Survey Year'\n",
    "deduped_df = deduped_df.drop(\"Survey Year\")\n",
    "\n",
    "# Columns to be encoded\n",
    "categorical_columns = [item[0] for item in deduped_df.dtypes if item[1].startswith('string')]\n",
    "\n",
    "# 1. Encoding categorical variables\n",
    "indexers = [StringIndexer(inputCol=column, outputCol=column+\"_index\", handleInvalid=\"keep\").fit(deduped_df) for column in categorical_columns]\n",
    "encoder = OneHotEncoder(inputCols=[indexer.getOutputCol() for indexer in indexers], outputCols=[column + \"_vec\" for column in categorical_columns])\n",
    "\n",
    "# 2. Assemble features into a single vector column to train ML models\n",
    "vec_assembler = VectorAssembler(inputCols=encoder.getOutputCols() + ['Year'], outputCol=\"features\")\n",
    "\n",
    "# 3. Set up the pipeline\n",
    "pipeline = Pipeline(stages=indexers + [encoder, vec_assembler])\n",
    "\n",
    "# 4. Run the transformations: fit and transform the data\n",
    "pipeline_model = pipeline.fit(deduped_df)\n",
    "final_df = pipeline_model.transform(deduped_df)\n",
    "\n",
    "# Show the results\n",
    "final_df.select('features').show(truncate=False)\n"
   ]
  },
  {
   "cell_type": "code",
   "execution_count": null,
   "id": "7b84a7bd",
   "metadata": {},
   "outputs": [],
   "source": [
    "from pyspark.sql import functions as F\n",
    "\n",
    "# Calculate average of 'Value' column\n",
    "average_value = df.agg(F.avg(df['Value'])).collect()[0][0]\n",
    "\n",
    "# Filter data: lower than or equal to average value\n",
    "lower_value = df.filter(df['Value'] <= average_value)\n",
    "\n",
    "# Filter data: higher than or equal to average value\n",
    "upper_value = df.filter(df['Value'] >= average_value)\n",
    "\n",
    "# Calculate and print percentages\n",
    "print('Total concordance above average:', 100 * upper_value.count() / df.count())\n",
    "print('Total concordance below average:', 100 * lower_value.count() / df.count())\n",
    "\n"
   ]
  },
  {
   "cell_type": "code",
   "execution_count": null,
   "id": "3ea55b7a",
   "metadata": {},
   "outputs": [],
   "source": [
    "from pyspark.sql.functions import mean, max, col\n",
    "\n",
    "# Start Spark session\n",
    "spark = SparkSession.builder.appName('questions_analysis').getOrCreate()\n",
    "\n",
    "# Assume `df` is your DataFrame\n",
    "\n",
    "questions = [\n",
    "    '... if she burns the food',\n",
    "    '... for at least one specific reason',\n",
    "    '... if she argues with him',\n",
    "    '... if she goes out without telling him',\n",
    "    '... if she neglects the children',\n",
    "    '... if she refuses to have sex with him'\n",
    "]\n",
    "\n",
    "for q in questions:\n",
    "    question_df = df.filter(col('Question') == q)\n",
    "    \n",
    "    max_value = question_df.agg(max(\"Value\")).collect()[0][0]\n",
    "    mean_value = question_df.agg(mean(\"Value\")).collect()[0][0]\n",
    "    \n",
    "    print(q)\n",
    "    print()\n",
    "    print('Highest percentage of the question: ', max_value)\n",
    "    print('Average percentage of the question: ', mean_value)\n",
    "    print('-'*40)\n",
    "    print()\n",
    "\n",
    "    \n",
    "question_df.printSchema()\n"
   ]
  },
  {
   "cell_type": "code",
   "execution_count": null,
   "id": "45f9155e",
   "metadata": {},
   "outputs": [],
   "source": [
    "from pyspark.sql.functions import log\n",
    "\n",
    "# Start Spark session\n",
    "spark = SparkSession.builder.appName('data_projection').getOrCreate()\n",
    "\n",
    "# Log transform of 'Value' column\n",
    "# Adding 1 to avoid log(0) which is undefined\n",
    "df = df.withColumn(\"log_Value\", log(df[\"Value\"] + 1))\n",
    "\n",
    "# Show original and transformed data\n",
    "df.select([\"Value\", \"log_Value\"]).show()"
   ]
  },
  {
   "cell_type": "code",
   "execution_count": null,
   "id": "db53903d",
   "metadata": {},
   "outputs": [],
   "source": [
    "df.printSchema()"
   ]
  },
  {
   "cell_type": "code",
   "execution_count": null,
   "id": "5f06d713",
   "metadata": {},
   "outputs": [],
   "source": [
    "from pyspark.ml.clustering import KMeans\n",
    "from pyspark.ml.feature import VectorAssembler\n",
    "\n",
    "# Assuming that deduped_df is already defined and is a DataFrame\n",
    "\n",
    "# Using VectorAssembler to combine features into a single feature vector column\n",
    "vec_assembler = VectorAssembler(inputCols=[\"Value\"], outputCol=\"features\")\n",
    "assembled_df = vec_assembler.transform(deduped_df).na.drop()\n",
    "\n",
    "# Initializing and training the KMeans model\n",
    "kmeans = KMeans(k=3, seed=1, featuresCol=\"features\", predictionCol=\"cluster\")  # k=3 is an example value\n",
    "model = kmeans.fit(assembled_df)\n",
    "\n",
    "# Using the model to predict clusters, i.e., assign data points to clusters\n",
    "clustered_df = model.transform(assembled_df)\n",
    "\n",
    "# Displaying clustering results\n",
    "clustered_df.select(['RecordID', 'Country', 'Value', 'cluster']).show()"
   ]
  },
  {
   "cell_type": "code",
   "execution_count": null,
   "id": "2f388b5a",
   "metadata": {
    "scrolled": true
   },
   "outputs": [],
   "source": [
    "from pyspark.ml import Pipeline\n",
    "from pyspark.ml.feature import OneHotEncoder, StringIndexer, VectorAssembler\n",
    "from pyspark.ml.classification import LogisticRegression\n",
    "from pyspark.ml.evaluation import BinaryClassificationEvaluator\n",
    "\n",
    "categorical_columns = ['Country', 'Demographics Question', 'Demographics Response', 'Question', 'Year']\n",
    "\n",
    "# Only index columns that do not yet have an _index suffix\n",
    "indexers = [StringIndexer(inputCol=column, outputCol=f\"{column}_index\").fit(deduped_df) \n",
    "            for column in categorical_columns if f\"{column}_index\" not in deduped_df.columns]\n",
    "\n",
    "encoders = [OneHotEncoder(inputCol=f\"{column}_index\", outputCol=f\"{column}_vec\") for column in categorical_columns]\n",
    "\n",
    "# Assemble everything together to be (\"label\",\"features\") format\n",
    "assembler = VectorAssembler(inputCols=[encoder.getOutputCol() for encoder in encoders] + ['Value'], outputCol=\"features\")\n",
    "pipeline = Pipeline(stages=indexers + encoders + [assembler])\n",
    "\n",
    "# Transform the dataset through the pipeline\n",
    "transformed_df = pipeline.fit(deduped_df).transform(deduped_df)\n",
    "\n",
    "# Convert 'Gender' into binary label for logistic regression\n",
    "label_indexer = StringIndexer(inputCol=\"Gender\", outputCol=\"New label\").fit(transformed_df)\n",
    "final_df = label_indexer.transform(transformed_df)\n",
    "\n",
    "# Split the data into training and test sets\n",
    "train_data, test_data = final_df.randomSplit([0.7, 0.3], seed=42)\n",
    "\n",
    "# Apply Logistic Regression\n",
    "lr = LogisticRegression(featuresCol='features', labelCol='label')\n",
    "lr_model = lr.fit(train_data)\n",
    "\n",
    "# Evaluate the model\n",
    "predictions = lr_model.transform(test_data)\n",
    "evaluator = BinaryClassificationEvaluator()\n",
    "print(f\"Area Under ROC: {evaluator.evaluate(predictions)}\")\n"
   ]
  },
  {
   "cell_type": "code",
   "execution_count": null,
   "id": "2ef05b7b",
   "metadata": {},
   "outputs": [],
   "source": [
    "import matplotlib.pyplot as plt\n",
    "import seaborn as sns\n",
    "\n",
    "\n",
    "pandas_df = deduped_df.toPandas()\n",
    "\n",
    "\n",
    "for column in categorical_columns:\n",
    "    plt.figure(figsize=(12, 6))\n",
    "    sns.countplot(data=pandas_df, x=column)\n",
    "    plt.title(f'Distribution of {column}')\n",
    "    plt.xticks(rotation=45)\n",
    "    plt.show()\n",
    "\n"
   ]
  },
  {
   "cell_type": "code",
   "execution_count": null,
   "id": "4fe8a0cd",
   "metadata": {},
   "outputs": [],
   "source": [
    "plt.figure(figsize=(12, 6))\n",
    "sns.boxplot(data=pandas_df, x='Year', y='Value')\n",
    "plt.title('Relation between Gender and Value')\n",
    "plt.show()\n"
   ]
  },
  {
   "cell_type": "code",
   "execution_count": null,
   "id": "392d1942",
   "metadata": {},
   "outputs": [],
   "source": [
    "from pyspark.ml.classification import LinearSVC\n",
    "from pyspark.ml.tuning import CrossValidator, ParamGridBuilder\n",
    "from pyspark.ml.evaluation import BinaryClassificationEvaluator\n"
   ]
  },
  {
   "cell_type": "code",
   "execution_count": null,
   "id": "71bc0369",
   "metadata": {},
   "outputs": [],
   "source": [
    "svm = LinearSVC(featuresCol='features', labelCol='New label')\n"
   ]
  },
  {
   "cell_type": "code",
   "execution_count": null,
   "id": "de6bf93e",
   "metadata": {},
   "outputs": [],
   "source": [
    "# Set parameter grid\n",
    "paramGrid = ParamGridBuilder()\\\n",
    "    .addGrid(svm.regParam, [0.01, 0.1, 1.0, 10.0]) \\\n",
    "    .addGrid(svm.maxIter, [100, 500])\\\n",
    "    .build()\n",
    "\n",
    "# Use the CrossValidator to select the best parameters\n",
    "crossval = CrossValidator(estimator=svm,\n",
    "                          estimatorParamMaps=paramGrid,\n",
    "                          evaluator=BinaryClassificationEvaluator(labelCol=\"New label\"),\n",
    "                          numFolds=5)\n",
    "\n",
    "cvModel = crossval.fit(train_data)\n",
    "\n",
    "\n"
   ]
  },
  {
   "cell_type": "code",
   "execution_count": null,
   "id": "2f02cce3",
   "metadata": {},
   "outputs": [],
   "source": [
    "predictions = bestModel.transform(test_data)\n",
    "evaluator = BinaryClassificationEvaluator(labelCol=\"New label\")\n",
    "print(f\"Area Under ROC: {evaluator.evaluate(predictions)}\")\n"
   ]
  },
  {
   "cell_type": "code",
   "execution_count": null,
   "id": "484ed2e9",
   "metadata": {},
   "outputs": [],
   "source": [
    "# Splitting the data into training and test sets (70/30)\n",
    "train_data, test_data = final_df.randomSplit([0.7, 0.3], seed=42)\n",
    "\n",
    "# Continue with SVM and other code...\n",
    "from pyspark.ml.tuning import CrossValidator, ParamGridBuilder\n",
    "from pyspark.ml.classification import LinearSVC\n",
    "\n",
    "# 2. Model Selection - SVM (Support Vector Machine)\n",
    "svm = LinearSVC(featuresCol='features', labelCol='label')\n",
    "\n",
    "# 3. Hyperparameter Tuning (Optional)\n",
    "# Setting up a parameter grid for tuning. For demonstration, I'll tune the regularization parameter.\n",
    "paramGrid = ParamGridBuilder()\\\n",
    "    .addGrid(svm.regParam, [0.01, 0.1, 1.0])\\\n",
    "    .build()\n",
    "\n",
    "# 4. Cross Validation\n",
    "crossval = CrossValidator(estimator=svm,\n",
    "                          estimatorParamMaps=paramGrid,\n",
    "                          evaluator=BinaryClassificationEvaluator(),\n",
    "                          numFolds=5)  # Using 5-fold cross validation\n",
    "\n",
    "# Train the model\n",
    "cvModel = crossval.fit(train_data)\n",
    "\n",
    "# 5. Evaluate the Model on Test Data\n",
    "predictions = cvModel.transform(test_data)\n",
    "evaluator = BinaryClassificationEvaluator()\n",
    "print(f\"Area Under ROC: {evaluator.evaluate(predictions)}\")\n"
   ]
  },
  {
   "cell_type": "code",
   "execution_count": null,
   "id": "320057ff",
   "metadata": {},
   "outputs": [],
   "source": [
    "from pyspark.ml import Pipeline\n",
    "from pyspark.ml.feature import OneHotEncoder, StringIndexer, VectorAssembler\n",
    "from pyspark.ml.classification import LinearSVC\n",
    "from pyspark.ml.tuning import CrossValidator, ParamGridBuilder\n",
    "from pyspark.ml.evaluation import BinaryClassificationEvaluator\n",
    "\n",
    "# Initial data processing\n",
    "categorical_columns = ['Country', 'Demographics Question', 'Demographics Response', 'Question', 'Year']\n",
    "\n",
    "# Indexing categorical columns\n",
    "indexers = [StringIndexer(inputCol=column, outputCol=f\"{column}_index\").fit(deduped_df) for column in categorical_columns if f\"{column}_index\" not in deduped_df.columns]\n",
    "\n",
    "# Encoding categorical columns\n",
    "encoders = [OneHotEncoder(inputCol=f\"{column}_index\", outputCol=f\"{column}_vec\") for column in categorical_columns]\n",
    "\n",
    "# Assembling features into 'features' column\n",
    "assembler = VectorAssembler(inputCols=[encoder.getOutputCol() for encoder in encoders] + ['Value'], outputCol=\"features\")\n",
    "\n",
    "# Pipeline to process the data\n",
    "pipeline = Pipeline(stages=indexers + encoders + [assembler])\n",
    "\n",
    "# Transforming the dataset\n",
    "transformed_df = pipeline.fit(deduped_df).transform(deduped_df)\n",
    "\n",
    "# Splitting data\n",
    "train_data, test_data = transformed_df.randomSplit([0.7, 0.3], seed=42)\n",
    "\n",
    "# SVM Model Implementation\n",
    "svm = LinearSVC(featuresCol='features', labelCol='label')\n",
    "\n",
    "# Parameter Grid for Hyperparameter Tuning\n",
    "paramGrid = ParamGridBuilder().addGrid(svm.regParam, [0.01, 0.1, 1.0]).build()\n",
    "\n",
    "# Cross-validation\n",
    "crossval = CrossValidator(estimator=svm, estimatorParamMaps=paramGrid, evaluator=BinaryClassificationEvaluator(), numFolds=5)\n",
    "\n",
    "# Train the model\n",
    "cvModel = crossval.fit(train_data)\n",
    "\n",
    "# Model Evaluation\n",
    "predictions = cvModel.transform(test_data)\n",
    "evaluator = BinaryClassificationEvaluator()\n",
    "print(f\"Area Under ROC: {evaluator.evaluate(predictions)}\")\n"
   ]
  },
  {
   "cell_type": "code",
   "execution_count": 14,
   "id": "4456d8f0",
   "metadata": {},
   "outputs": [],
   "source": [
    "deduped_df = deduped_df.drop(\"Gender\")\n",
    "\n"
   ]
  },
  {
   "cell_type": "code",
   "execution_count": 15,
   "id": "0e20ebfd",
   "metadata": {},
   "outputs": [],
   "source": [
    "from pyspark.ml.feature import OneHotEncoder, StringIndexer, VectorAssembler\n",
    "from pyspark.ml import Pipeline\n",
    "\n",
    "categorical_columns = ['Country', 'Demographics Question', 'Demographics Response', 'Question', 'Year']\n",
    "\n",
    "indexers = [StringIndexer(inputCol=column, outputCol=f\"{column}_index\").fit(deduped_df) for column in categorical_columns]\n",
    "\n",
    "encoders = [OneHotEncoder(inputCol=f\"{column}_index\", outputCol=f\"{column}_vec\") for column in categorical_columns]\n",
    "\n",
    "assembler = VectorAssembler(inputCols=[encoder.getOutputCol() for encoder in encoders] + ['Value'], outputCol=\"features\")\n",
    "\n",
    "pipeline = Pipeline(stages=indexers + encoders + [assembler])\n",
    "\n",
    "transformed_df = pipeline.fit(deduped_df).transform(deduped_df)\n",
    "\n",
    "# Split the data into training and test sets\n",
    "train_data, test_data = transformed_df.randomSplit([0.7, 0.3], seed=42)\n"
   ]
  },
  {
   "cell_type": "code",
   "execution_count": 16,
   "id": "6a2b75a7",
   "metadata": {},
   "outputs": [
    {
     "name": "stderr",
     "output_type": "stream",
     "text": [
      "                                                                                \r"
     ]
    },
    {
     "data": {
      "image/png": "[encoded data removed]",
      "text/plain": [
       "<Figure size 720x432 with 1 Axes>"
      ]
     },
     "metadata": {
      "needs_background": "light"
     },
     "output_type": "display_data"
    }
   ],
   "source": [
    "import matplotlib.pyplot as plt\n",
    "import seaborn as sns\n",
    "\n",
    "# Convert Spark DataFrame to Pandas DataFrame\n",
    "pandas_df = transformed_df.toPandas()\n",
    "\n",
    "# Example: Bar plot for the count of each 'Country'\n",
    "plt.figure(figsize=(10, 6))\n",
    "sns.countplot(data=pandas_df, x='Country')\n",
    "plt.title('Count of each Country')\n",
    "plt.xticks(rotation=45)\n",
    "plt.show()\n"
   ]
  },
  {
   "cell_type": "code",
   "execution_count": 26,
   "id": "df538450",
   "metadata": {},
   "outputs": [],
   "source": [
    "from pyspark.ml.feature import StandardScaler, StringIndexer\n",
    "from pyspark.sql.functions import  col\n",
    "\n",
    "df_selected = df.select('Demographics Response', 'Country', 'Value')\n",
    "\n",
    "\n",
    "# Processing missing value\n",
    "median_value = df_selected.approxQuantile('Value', [0.5], 0.01)[0]\n",
    "df_filled = df_selected.na.fill({'Value': median_value})\n",
    "\n",
    "\n",
    "# Removes non-numeric columns\n",
    "df_numeric = df_filled.drop('Demographics Response', 'Country')\n",
    "\n",
    "# Data standardization\n",
    "features = df_numeric.columns\n",
    "assembler = VectorAssembler(inputCols=features, outputCol=\"features\")\n",
    "df_assembled = assembler.transform(df_numeric)\n",
    "scaler = StandardScaler(inputCol=\"features\", outputCol=\"scaledFeatures\")\n",
    "scalerModel = scaler.fit(df_assembled)\n",
    "df_scaled = scalerModel.transform(df_assembled)\n",
    "\n",
    "# Encode the 'Demographics Response' column\n",
    "indexer = StringIndexer(inputCol='Demographics Response', outputCol='DemographicsIndexed')\n",
    "df_encoded = indexer.fit(df_filled).transform(df_filled)\n"
   ]
  },
  {
   "cell_type": "code",
   "execution_count": 27,
   "id": "39acce7c",
   "metadata": {},
   "outputs": [
    {
     "name": "stdout",
     "output_type": "stream",
     "text": [
      "Silhouette Score: 0.76\n"
     ]
    }
   ],
   "source": [
    "from pyspark.ml.clustering import KMeans\n",
    "from pyspark.ml.evaluation import ClusteringEvaluator\n",
    "\n",
    "k = 5\n",
    "kmeans = KMeans().setK(k).setSeed(42).setFeaturesCol(\"scaledFeatures\")\n",
    "model = kmeans.fit(df_scaled)\n",
    "predictions = model.transform(df_scaled)\n",
    "\n",
    "\n",
    "evaluator = ClusteringEvaluator()\n",
    "\n",
    "silhouette = evaluator.evaluate(predictions)\n",
    "print(f\"Silhouette Score: {silhouette:.2f}\")\n"
   ]
  },
  {
   "cell_type": "code",
   "execution_count": 36,
   "id": "6c977d36",
   "metadata": {},
   "outputs": [
    {
     "name": "stdout",
     "output_type": "stream",
     "text": [
      "+----------+------------------+---------+---------+-----+\n",
      "|prediction|         avg_Value|max_Value|min_Value|count|\n",
      "+----------+------------------+---------+---------+-----+\n",
      "|         0|4.6922309337134696|      9.9|      0.0| 4209|\n",
      "|         1| 62.94760273972601|     86.9|     53.6|  584|\n",
      "|         2| 28.14059546313802|     36.1|     21.7| 2116|\n",
      "|         3| 44.17433823529417|     53.5|     36.2| 1360|\n",
      "|         4|15.207180789656476|     21.6|     10.0| 4331|\n",
      "+----------+------------------+---------+---------+-----+\n",
      "\n",
      "+------------------+-----------------+-----------------+\n",
      "| overall_avg_Value|overall_max_Value|overall_min_Value|\n",
      "+------------------+-----------------+-----------------+\n",
      "|19.206023809523085|             86.9|              0.0|\n",
      "+------------------+-----------------+-----------------+\n",
      "\n"
     ]
    }
   ],
   "source": [
    "from pyspark.sql.functions import col, avg, max, min, count\n",
    "\n",
    "# Aggregate data within each cluster to find patterns\n",
    "cluster_patterns = predictions.groupBy(\"prediction\").agg(\n",
    "    avg(\"Value\").alias(\"avg_Value\"),\n",
    "    max(\"Value\").alias(\"max_Value\"),\n",
    "    min(\"Value\").alias(\"min_Value\"),\n",
    "    count(\"Value\").alias(\"count\")\n",
    ").sort(\"prediction\")\n",
    "\n",
    "cluster_patterns.show()\n",
    "\n",
    "# Descriptive stats for the whole dataset for comparison\n",
    "overall_stats = df_scaled.agg(\n",
    "    avg(\"Value\").alias(\"overall_avg_Value\"),\n",
    "    max(\"Value\").alias(\"overall_max_Value\"),\n",
    "    min(\"Value\").alias(\"overall_min_Value\")\n",
    ")\n",
    "\n",
    "overall_stats.show()\n"
   ]
  },
  {
   "cell_type": "code",
   "execution_count": 39,
   "id": "98ca78b7",
   "metadata": {},
   "outputs": [
    {
     "name": "stdout",
     "output_type": "stream",
     "text": [
      "Defaulting to user installation because normal site-packages is not writeable\n",
      "Requirement already satisfied: matplotlib in /home/ubuntu/.local/lib/python3.10/site-packages (3.5.2)\n",
      "Requirement already satisfied: seaborn in /home/ubuntu/.local/lib/python3.10/site-packages (0.11.2)\n",
      "Requirement already satisfied: pandas in /home/ubuntu/.local/lib/python3.10/site-packages (1.4.2)\n",
      "Requirement already satisfied: fonttools>=4.22.0 in /home/ubuntu/.local/lib/python3.10/site-packages (from matplotlib) (4.33.3)\n",
      "Requirement already satisfied: pyparsing>=2.2.1 in /usr/lib/python3/dist-packages (from matplotlib) (2.4.7)\n",
      "Requirement already satisfied: numpy>=1.17 in /home/ubuntu/.local/lib/python3.10/site-packages (from matplotlib) (1.22.4)\n",
      "Requirement already satisfied: packaging>=20.0 in /home/ubuntu/.local/lib/python3.10/site-packages (from matplotlib) (21.3)\n",
      "Requirement already satisfied: cycler>=0.10 in /home/ubuntu/.local/lib/python3.10/site-packages (from matplotlib) (0.11.0)\n",
      "Requirement already satisfied: kiwisolver>=1.0.1 in /home/ubuntu/.local/lib/python3.10/site-packages (from matplotlib) (1.4.2)\n",
      "Requirement already satisfied: pillow>=6.2.0 in /home/ubuntu/.local/lib/python3.10/site-packages (from matplotlib) (9.1.1)\n",
      "Requirement already satisfied: python-dateutil>=2.7 in /home/ubuntu/.local/lib/python3.10/site-packages (from matplotlib) (2.8.2)\n",
      "Requirement already satisfied: scipy>=1.0 in /home/ubuntu/.local/lib/python3.10/site-packages (from seaborn) (1.8.1)\n",
      "Requirement already satisfied: pytz>=2020.1 in /usr/lib/python3/dist-packages (from pandas) (2022.1)\n",
      "Requirement already satisfied: six>=1.5 in /usr/lib/python3/dist-packages (from python-dateutil>=2.7->matplotlib) (1.16.0)\n",
      "Note: you may need to restart the kernel to use updated packages.\n"
     ]
    }
   ],
   "source": [
    "pip install matplotlib seaborn pandas\n"
   ]
  },
  {
   "cell_type": "code",
   "execution_count": 41,
   "id": "cd9bb055",
   "metadata": {},
   "outputs": [
    {
     "data": {
      "image/png": "[encoded data removed]",
      "text/plain": [
       "<Figure size 720x432 with 1 Axes>"
      ]
     },
     "metadata": {
      "needs_background": "light"
     },
     "output_type": "display_data"
    },
    {
     "data": {
      "image/png": "[encoded data removed]",
      "text/plain": [
       "<Figure size 720x432 with 1 Axes>"
      ]
     },
     "metadata": {
      "needs_background": "light"
     },
     "output_type": "display_data"
    },
    {
     "data": {
      "image/png": "[encoded data removed]",
      "text/plain": [
       "<Figure size 864x432 with 1 Axes>"
      ]
     },
     "metadata": {
      "needs_background": "light"
     },
     "output_type": "display_data"
    }
   ],
   "source": [
    "\n",
    "import matplotlib.pyplot as plt\n",
    "import seaborn as sns\n",
    "import pandas as pd\n",
    "\n",
    "# Convert Spark DataFrame to Pandas DataFrame for visualization\n",
    "cluster_patterns_pd = cluster_patterns.toPandas()\n",
    "overall_stats_pd = overall_stats.toPandas()\n",
    "\n",
    "# Plotting average values for each cluster\n",
    "plt.figure(figsize=(10, 6))\n",
    "sns.barplot(data=cluster_patterns_pd, x='prediction', y='avg_Value', palette='viridis')\n",
    "plt.axhline(overall_stats_pd['overall_avg_Value'][0], color='r', linestyle='dashed', label='Overall Average')\n",
    "plt.title('Average Value per Cluster vs Overall Average')\n",
    "plt.legend()\n",
    "plt.show()\n",
    "\n",
    "# Plotting count of records for each cluster\n",
    "plt.figure(figsize=(10, 6))\n",
    "sns.barplot(data=cluster_patterns_pd, x='prediction', y='count', palette='viridis')\n",
    "plt.title('Number of Records per Cluster')\n",
    "plt.show()\n",
    "\n",
    "# Boxplot for min, avg, and max values\n",
    "cluster_patterns_pd = cluster_patterns_pd.melt(id_vars=\"prediction\", value_vars=[\"min_Value\", \"avg_Value\", \"max_Value\"])\n",
    "plt.figure(figsize=(12, 6))\n",
    "sns.boxplot(data=cluster_patterns_pd, x='prediction', y='value', hue='variable', palette='viridis')\n",
    "plt.title('Distribution of Min, Avg, and Max Values per Cluster')\n",
    "plt.show()\n"
   ]
  },
  {
   "cell_type": "code",
   "execution_count": null,
   "id": "90dddb01",
   "metadata": {},
   "outputs": [],
   "source": []
  }
 ],
 "metadata": {
  "kernelspec": {
   "display_name": "Python 3 (ipykernel)",
   "language": "python",
   "name": "python3"
  },
  "language_info": {
   "codemirror_mode": {
    "name": "ipython",
    "version": 3
   },
   "file_extension": ".py",
   "mimetype": "text/x-python",
   "name": "python",
   "nbconvert_exporter": "python",
   "pygments_lexer": "ipython3",
   "version": "3.10.12"
  }
 },
 "nbformat": 4,
 "nbformat_minor": 5
}
